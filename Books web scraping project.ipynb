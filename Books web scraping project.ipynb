{
 "cells": [
  {
   "cell_type": "markdown",
   "id": "26d67d1e",
   "metadata": {},
   "source": [
    "# Packt website scraping (the free book section )"
   ]
  },
  {
   "cell_type": "code",
   "execution_count": 65,
   "id": "5623230c",
   "metadata": {},
   "outputs": [],
   "source": [
    "import pandas as pd \n",
    "import numpy as np\n",
    "import matplotlib.pyplot as plt\n",
    "import seaborn as sns \n",
    "import re\n",
    "from bs4 import BeautifulSoup as bs\n",
    "import requests\n",
    "from urllib.request import urlopen\n",
    "from IPython.display import Image as ig"
   ]
  },
  {
   "cell_type": "markdown",
   "id": "cef531eb",
   "metadata": {},
   "source": [
    "# Web_scraping"
   ]
  },
  {
   "cell_type": "code",
   "execution_count": 3,
   "id": "506d2c24",
   "metadata": {},
   "outputs": [],
   "source": [
    "url = \"https://www.packtpub.com/free-learning\" \n",
    "headers = {\"User-Agent\": \"Mozilla/5.0\"}"
   ]
  },
  {
   "cell_type": "code",
   "execution_count": 4,
   "id": "f3fc89b2",
   "metadata": {},
   "outputs": [],
   "source": [
    "res = requests.get(url, headers=headers)\n",
    "soup = bs(res.text, \"html.parser\")"
   ]
  },
  {
   "cell_type": "code",
   "execution_count": 6,
   "id": "2388f17b",
   "metadata": {},
   "outputs": [
    {
     "data": {
      "text/plain": [
       "'Responsive Web Design with HTML5 and CSS3, Second Edition'"
      ]
     },
     "execution_count": 6,
     "metadata": {},
     "output_type": "execute_result"
    }
   ],
   "source": [
    "#getting titles of books\n",
    "titles = soup.find_all(\"span\" , {\"class\":\"card__title\"})\n",
    "titles[0].get_text().strip()"
   ]
  },
  {
   "cell_type": "code",
   "execution_count": 7,
   "id": "c3739ad4",
   "metadata": {},
   "outputs": [],
   "source": [
    "ntitles =[]\n",
    "for x in range(len(titles)) :\n",
    "    d=titles[x].get_text().strip()\n",
    "    ntitles.append(d)"
   ]
  },
  {
   "cell_type": "code",
   "execution_count": 8,
   "id": "fdc8c0c3",
   "metadata": {},
   "outputs": [
    {
     "data": {
      "text/plain": [
       "'312 Pages'"
      ]
     },
     "execution_count": 8,
     "metadata": {},
     "output_type": "execute_result"
    }
   ],
   "source": [
    "#getting number of pages \n",
    "pages_no = soup.find_all('span',{'class':'card__pages'})\n",
    "pages_no[0].get_text().strip()"
   ]
  },
  {
   "cell_type": "code",
   "execution_count": 9,
   "id": "b2acc04f",
   "metadata": {},
   "outputs": [],
   "source": [
    "page_number = []\n",
    "for x in range(len(pages_no)):\n",
    "    y = pages_no[x].get_text().strip()\n",
    "    page_number.append(y)"
   ]
  },
  {
   "cell_type": "code",
   "execution_count": 11,
   "id": "00e71352",
   "metadata": {},
   "outputs": [
    {
     "data": {
      "text/plain": [
       "'Aug 2015'"
      ]
     },
     "execution_count": 11,
     "metadata": {},
     "output_type": "execute_result"
    }
   ],
   "source": [
    "#getting the date of releasing\n",
    "releasing_date = soup.find_all('span',{'class':'card__date'})\n",
    "releasing_date[0].get_text().strip()"
   ]
  },
  {
   "cell_type": "code",
   "execution_count": 12,
   "id": "463f8ec2",
   "metadata": {},
   "outputs": [],
   "source": [
    "RelDate = []\n",
    "for x in range(len(releasing_date)) :\n",
    "    d = releasing_date[x].get_text().strip()\n",
    "    RelDate.append(d)"
   ]
  },
  {
   "cell_type": "code",
   "execution_count": 14,
   "id": "47e5d422",
   "metadata": {},
   "outputs": [
    {
     "data": {
      "text/plain": [
       "'By Ben Frain'"
      ]
     },
     "execution_count": 14,
     "metadata": {},
     "output_type": "execute_result"
    }
   ],
   "source": [
    "#getting authors name\n",
    "author=soup.find_all('span',{'class':'card__author'})\n",
    "author[0].get_text().strip()\n"
   ]
  },
  {
   "cell_type": "code",
   "execution_count": 15,
   "id": "c92d09a3",
   "metadata": {},
   "outputs": [],
   "source": [
    "a=[]\n",
    "for x in range(len(author)) :\n",
    "    y= author[x].get_text().strip()\n",
    "    a.append(y)"
   ]
  },
  {
   "cell_type": "code",
   "execution_count": 17,
   "id": "1ef645ed",
   "metadata": {},
   "outputs": [],
   "source": [
    "#adding all the data to a CSV file \n",
    "data = {\n",
    "    'book_name': ntitles,\n",
    "    'page_number': page_number,\n",
    "    'release_date': RelDate,\n",
    "    'author': a\n",
    "} \n",
    "df = pd.DataFrame(data)\n",
    "df.to_csv('books_data.csv', index=False, encoding='utf-8')"
   ]
  },
  {
   "cell_type": "markdown",
   "id": "5407f48f",
   "metadata": {},
   "source": [
    "# Exploring"
   ]
  },
  {
   "cell_type": "code",
   "execution_count": 18,
   "id": "ce3673b1",
   "metadata": {
    "scrolled": true
   },
   "outputs": [
    {
     "data": {
      "text/html": [
       "<div>\n",
       "<style scoped>\n",
       "    .dataframe tbody tr th:only-of-type {\n",
       "        vertical-align: middle;\n",
       "    }\n",
       "\n",
       "    .dataframe tbody tr th {\n",
       "        vertical-align: top;\n",
       "    }\n",
       "\n",
       "    .dataframe thead th {\n",
       "        text-align: right;\n",
       "    }\n",
       "</style>\n",
       "<table border=\"1\" class=\"dataframe\">\n",
       "  <thead>\n",
       "    <tr style=\"text-align: right;\">\n",
       "      <th></th>\n",
       "      <th>book_name</th>\n",
       "      <th>page_number</th>\n",
       "      <th>release_date</th>\n",
       "      <th>author</th>\n",
       "    </tr>\n",
       "  </thead>\n",
       "  <tbody>\n",
       "    <tr>\n",
       "      <th>0</th>\n",
       "      <td>Responsive Web Design with HTML5 and CSS3, Sec...</td>\n",
       "      <td>312 Pages</td>\n",
       "      <td>Aug 2015</td>\n",
       "      <td>By Ben Frain</td>\n",
       "    </tr>\n",
       "    <tr>\n",
       "      <th>1</th>\n",
       "      <td>Extreme C</td>\n",
       "      <td>822 Pages</td>\n",
       "      <td>Oct 2019</td>\n",
       "      <td>By Kamran Amini</td>\n",
       "    </tr>\n",
       "    <tr>\n",
       "      <th>2</th>\n",
       "      <td>Mastering Kubernetes - Second Edition</td>\n",
       "      <td>468 Pages</td>\n",
       "      <td>Apr 2018</td>\n",
       "      <td>By Gigi Sayfan</td>\n",
       "    </tr>\n",
       "    <tr>\n",
       "      <th>3</th>\n",
       "      <td>Learn Kali Linux 2019</td>\n",
       "      <td>550 Pages</td>\n",
       "      <td>Nov 2019</td>\n",
       "      <td>By Joshua Crumbaugh\\n                         ...</td>\n",
       "    </tr>\n",
       "    <tr>\n",
       "      <th>4</th>\n",
       "      <td>AI Crash Course</td>\n",
       "      <td>360 Pages</td>\n",
       "      <td>Nov 2019</td>\n",
       "      <td>By Hadelin de Ponteves</td>\n",
       "    </tr>\n",
       "    <tr>\n",
       "      <th>5</th>\n",
       "      <td>Learn Power BI</td>\n",
       "      <td>362 Pages</td>\n",
       "      <td>Sep 2019</td>\n",
       "      <td>By Greg Deckler</td>\n",
       "    </tr>\n",
       "    <tr>\n",
       "      <th>6</th>\n",
       "      <td>Learn Python Programming - Second Edition</td>\n",
       "      <td>508 Pages</td>\n",
       "      <td>Jun 2018</td>\n",
       "      <td>By Romano</td>\n",
       "    </tr>\n",
       "    <tr>\n",
       "      <th>7</th>\n",
       "      <td>Blockchain By Example</td>\n",
       "      <td>528 Pages</td>\n",
       "      <td>Nov 2018</td>\n",
       "      <td>By Badr\\n                                     ...</td>\n",
       "    </tr>\n",
       "    <tr>\n",
       "      <th>8</th>\n",
       "      <td>Docker Cookbook - Second Edition</td>\n",
       "      <td>352 Pages</td>\n",
       "      <td>Aug 2018</td>\n",
       "      <td>By Cochrane\\n                                 ...</td>\n",
       "    </tr>\n",
       "    <tr>\n",
       "      <th>9</th>\n",
       "      <td>Linux Kernel Programming Part 2 - Char Device ...</td>\n",
       "      <td>452 Pages</td>\n",
       "      <td>Mar 2021</td>\n",
       "      <td>By Kaiwan N. Billimoria</td>\n",
       "    </tr>\n",
       "    <tr>\n",
       "      <th>10</th>\n",
       "      <td>Learn Ethical Hacking from Scratch</td>\n",
       "      <td>564 Pages</td>\n",
       "      <td>Jul 2018</td>\n",
       "      <td>By Sabih</td>\n",
       "    </tr>\n",
       "    <tr>\n",
       "      <th>11</th>\n",
       "      <td>Clean Code in Python</td>\n",
       "      <td>332 Pages</td>\n",
       "      <td>Aug 2018</td>\n",
       "      <td>By Anaya</td>\n",
       "    </tr>\n",
       "    <tr>\n",
       "      <th>12</th>\n",
       "      <td>Learn Ethereum</td>\n",
       "      <td>540 Pages</td>\n",
       "      <td>Sep 2019</td>\n",
       "      <td>By Xun (Brian) Wu\\n                           ...</td>\n",
       "    </tr>\n",
       "    <tr>\n",
       "      <th>13</th>\n",
       "      <td>Learning DevOps</td>\n",
       "      <td>504 Pages</td>\n",
       "      <td>Oct 2019</td>\n",
       "      <td>By Mikael Krief</td>\n",
       "    </tr>\n",
       "    <tr>\n",
       "      <th>14</th>\n",
       "      <td>The Java Workshop</td>\n",
       "      <td>606 Pages</td>\n",
       "      <td>Oct 2019</td>\n",
       "      <td>By David Cuartielles\\n                        ...</td>\n",
       "    </tr>\n",
       "    <tr>\n",
       "      <th>15</th>\n",
       "      <td>Django 3 Web Development Cookbook - Fourth Edi...</td>\n",
       "      <td></td>\n",
       "      <td>Mar 2020</td>\n",
       "      <td>By Aidas Bendoraitis\\n                        ...</td>\n",
       "    </tr>\n",
       "    <tr>\n",
       "      <th>16</th>\n",
       "      <td>The C++ Workshop</td>\n",
       "      <td></td>\n",
       "      <td>Feb 2020</td>\n",
       "      <td>By Dale Green\\n                               ...</td>\n",
       "    </tr>\n",
       "    <tr>\n",
       "      <th>17</th>\n",
       "      <td>Learn SwiftUI</td>\n",
       "      <td>316 Pages</td>\n",
       "      <td>Apr 2020</td>\n",
       "      <td>By Chris Barker</td>\n",
       "    </tr>\n",
       "    <tr>\n",
       "      <th>18</th>\n",
       "      <td>The Data Science Workshop - Second Edition</td>\n",
       "      <td>824 Pages</td>\n",
       "      <td>Aug 2020</td>\n",
       "      <td>By Anthony So\\n                               ...</td>\n",
       "    </tr>\n",
       "    <tr>\n",
       "      <th>19</th>\n",
       "      <td>Mastering QuickBooks 2020</td>\n",
       "      <td>332 Pages</td>\n",
       "      <td>Dec 2019</td>\n",
       "      <td>By Crystalynn Shelton</td>\n",
       "    </tr>\n",
       "    <tr>\n",
       "      <th>20</th>\n",
       "      <td>Unity 2020 By Example - Third Edition</td>\n",
       "      <td>676 Pages</td>\n",
       "      <td>Sep 2020</td>\n",
       "      <td>By Robert Wells</td>\n",
       "    </tr>\n",
       "    <tr>\n",
       "      <th>21</th>\n",
       "      <td>The Kubernetes Workshop</td>\n",
       "      <td>780 Pages</td>\n",
       "      <td>Sep 2020</td>\n",
       "      <td>By Zachary Arnold\\n                           ...</td>\n",
       "    </tr>\n",
       "    <tr>\n",
       "      <th>22</th>\n",
       "      <td>Mastering Windows Server 2019 - Second Edition</td>\n",
       "      <td>524 Pages</td>\n",
       "      <td>Mar 2019</td>\n",
       "      <td>By Jordan Krause</td>\n",
       "    </tr>\n",
       "    <tr>\n",
       "      <th>23</th>\n",
       "      <td>Hands-On Microservices with Spring Boot and Sp...</td>\n",
       "      <td>668 Pages</td>\n",
       "      <td>Sep 2019</td>\n",
       "      <td>By Magnus Larsson AB</td>\n",
       "    </tr>\n",
       "    <tr>\n",
       "      <th>24</th>\n",
       "      <td>Learn SOLIDWORKS 2020</td>\n",
       "      <td>586 Pages</td>\n",
       "      <td>Dec 2019</td>\n",
       "      <td>By Tayseer Almattar</td>\n",
       "    </tr>\n",
       "    <tr>\n",
       "      <th>25</th>\n",
       "      <td>Mastering GitLab 12</td>\n",
       "      <td>608 Pages</td>\n",
       "      <td>Aug 2019</td>\n",
       "      <td>By Evertse</td>\n",
       "    </tr>\n",
       "    <tr>\n",
       "      <th>26</th>\n",
       "      <td>Programming Microsoft Dynamics 365 Business Ce...</td>\n",
       "      <td>536 Pages</td>\n",
       "      <td>Apr 2019</td>\n",
       "      <td>By Marije Brummel\\n                           ...</td>\n",
       "    </tr>\n",
       "    <tr>\n",
       "      <th>27</th>\n",
       "      <td>Mastering TypeScript 3 - Third Edition</td>\n",
       "      <td>694 Pages</td>\n",
       "      <td>Feb 2019</td>\n",
       "      <td>By Nathan Rozentals</td>\n",
       "    </tr>\n",
       "    <tr>\n",
       "      <th>28</th>\n",
       "      <td>Mastering Kotlin</td>\n",
       "      <td>434 Pages</td>\n",
       "      <td>Oct 2019</td>\n",
       "      <td>By Nate Ebel</td>\n",
       "    </tr>\n",
       "    <tr>\n",
       "      <th>29</th>\n",
       "      <td>Mastering Microsoft Power BI</td>\n",
       "      <td></td>\n",
       "      <td>Mar 2018</td>\n",
       "      <td>By Powell</td>\n",
       "    </tr>\n",
       "    <tr>\n",
       "      <th>30</th>\n",
       "      <td>The Go Workshop</td>\n",
       "      <td></td>\n",
       "      <td>Dec 2019</td>\n",
       "      <td>By Delio D'Anna\\n                             ...</td>\n",
       "    </tr>\n",
       "  </tbody>\n",
       "</table>\n",
       "</div>"
      ],
      "text/plain": [
       "                                            book_name page_number  \\\n",
       "0   Responsive Web Design with HTML5 and CSS3, Sec...   312 Pages   \n",
       "1                                           Extreme C   822 Pages   \n",
       "2               Mastering Kubernetes - Second Edition   468 Pages   \n",
       "3                               Learn Kali Linux 2019   550 Pages   \n",
       "4                                     AI Crash Course   360 Pages   \n",
       "5                                      Learn Power BI   362 Pages   \n",
       "6           Learn Python Programming - Second Edition   508 Pages   \n",
       "7                               Blockchain By Example   528 Pages   \n",
       "8                    Docker Cookbook - Second Edition   352 Pages   \n",
       "9   Linux Kernel Programming Part 2 - Char Device ...   452 Pages   \n",
       "10                 Learn Ethical Hacking from Scratch   564 Pages   \n",
       "11                               Clean Code in Python   332 Pages   \n",
       "12                                     Learn Ethereum   540 Pages   \n",
       "13                                    Learning DevOps   504 Pages   \n",
       "14                                  The Java Workshop   606 Pages   \n",
       "15  Django 3 Web Development Cookbook - Fourth Edi...               \n",
       "16                                   The C++ Workshop               \n",
       "17                                      Learn SwiftUI   316 Pages   \n",
       "18         The Data Science Workshop - Second Edition   824 Pages   \n",
       "19                          Mastering QuickBooks 2020   332 Pages   \n",
       "20              Unity 2020 By Example - Third Edition   676 Pages   \n",
       "21                            The Kubernetes Workshop   780 Pages   \n",
       "22     Mastering Windows Server 2019 - Second Edition   524 Pages   \n",
       "23  Hands-On Microservices with Spring Boot and Sp...   668 Pages   \n",
       "24                              Learn SOLIDWORKS 2020   586 Pages   \n",
       "25                                Mastering GitLab 12   608 Pages   \n",
       "26  Programming Microsoft Dynamics 365 Business Ce...   536 Pages   \n",
       "27             Mastering TypeScript 3 - Third Edition   694 Pages   \n",
       "28                                   Mastering Kotlin   434 Pages   \n",
       "29                       Mastering Microsoft Power BI               \n",
       "30                                    The Go Workshop               \n",
       "\n",
       "   release_date                                             author  \n",
       "0      Aug 2015                                       By Ben Frain  \n",
       "1      Oct 2019                                    By Kamran Amini  \n",
       "2      Apr 2018                                     By Gigi Sayfan  \n",
       "3      Nov 2019  By Joshua Crumbaugh\\n                         ...  \n",
       "4      Nov 2019                             By Hadelin de Ponteves  \n",
       "5      Sep 2019                                    By Greg Deckler  \n",
       "6      Jun 2018                                          By Romano  \n",
       "7      Nov 2018  By Badr\\n                                     ...  \n",
       "8      Aug 2018  By Cochrane\\n                                 ...  \n",
       "9      Mar 2021                            By Kaiwan N. Billimoria  \n",
       "10     Jul 2018                                           By Sabih  \n",
       "11     Aug 2018                                           By Anaya  \n",
       "12     Sep 2019  By Xun (Brian) Wu\\n                           ...  \n",
       "13     Oct 2019                                    By Mikael Krief  \n",
       "14     Oct 2019  By David Cuartielles\\n                        ...  \n",
       "15     Mar 2020  By Aidas Bendoraitis\\n                        ...  \n",
       "16     Feb 2020  By Dale Green\\n                               ...  \n",
       "17     Apr 2020                                    By Chris Barker  \n",
       "18     Aug 2020  By Anthony So\\n                               ...  \n",
       "19     Dec 2019                              By Crystalynn Shelton  \n",
       "20     Sep 2020                                    By Robert Wells  \n",
       "21     Sep 2020  By Zachary Arnold\\n                           ...  \n",
       "22     Mar 2019                                   By Jordan Krause  \n",
       "23     Sep 2019                               By Magnus Larsson AB  \n",
       "24     Dec 2019                                By Tayseer Almattar  \n",
       "25     Aug 2019                                         By Evertse  \n",
       "26     Apr 2019  By Marije Brummel\\n                           ...  \n",
       "27     Feb 2019                                By Nathan Rozentals  \n",
       "28     Oct 2019                                       By Nate Ebel  \n",
       "29     Mar 2018                                          By Powell  \n",
       "30     Dec 2019  By Delio D'Anna\\n                             ...  "
      ]
     },
     "execution_count": 18,
     "metadata": {},
     "output_type": "execute_result"
    }
   ],
   "source": [
    "df"
   ]
  },
  {
   "cell_type": "code",
   "execution_count": 2,
   "id": "a19d9ebf",
   "metadata": {},
   "outputs": [],
   "source": [
    "df = pd.read_csv('books_data.csv')"
   ]
  },
  {
   "cell_type": "code",
   "execution_count": 3,
   "id": "6654f1d9",
   "metadata": {},
   "outputs": [
    {
     "data": {
      "text/html": [
       "<div>\n",
       "<style scoped>\n",
       "    .dataframe tbody tr th:only-of-type {\n",
       "        vertical-align: middle;\n",
       "    }\n",
       "\n",
       "    .dataframe tbody tr th {\n",
       "        vertical-align: top;\n",
       "    }\n",
       "\n",
       "    .dataframe thead th {\n",
       "        text-align: right;\n",
       "    }\n",
       "</style>\n",
       "<table border=\"1\" class=\"dataframe\">\n",
       "  <thead>\n",
       "    <tr style=\"text-align: right;\">\n",
       "      <th></th>\n",
       "      <th>book_name</th>\n",
       "      <th>page_number</th>\n",
       "      <th>release_date</th>\n",
       "      <th>author</th>\n",
       "    </tr>\n",
       "  </thead>\n",
       "  <tbody>\n",
       "    <tr>\n",
       "      <th>0</th>\n",
       "      <td>Responsive Web Design with HTML5 and CSS3, Sec...</td>\n",
       "      <td>312 Pages</td>\n",
       "      <td>Aug 2015</td>\n",
       "      <td>By Ben Frain</td>\n",
       "    </tr>\n",
       "    <tr>\n",
       "      <th>1</th>\n",
       "      <td>Extreme C</td>\n",
       "      <td>822 Pages</td>\n",
       "      <td>Oct 2019</td>\n",
       "      <td>By Kamran Amini</td>\n",
       "    </tr>\n",
       "    <tr>\n",
       "      <th>2</th>\n",
       "      <td>Mastering Kubernetes - Second Edition</td>\n",
       "      <td>468 Pages</td>\n",
       "      <td>Apr 2018</td>\n",
       "      <td>By Gigi Sayfan</td>\n",
       "    </tr>\n",
       "    <tr>\n",
       "      <th>3</th>\n",
       "      <td>Learn Kali Linux 2019</td>\n",
       "      <td>550 Pages</td>\n",
       "      <td>Nov 2019</td>\n",
       "      <td>By Joshua Crumbaugh\\n                         ...</td>\n",
       "    </tr>\n",
       "    <tr>\n",
       "      <th>4</th>\n",
       "      <td>AI Crash Course</td>\n",
       "      <td>360 Pages</td>\n",
       "      <td>Nov 2019</td>\n",
       "      <td>By Hadelin de Ponteves</td>\n",
       "    </tr>\n",
       "    <tr>\n",
       "      <th>5</th>\n",
       "      <td>Learn Power BI</td>\n",
       "      <td>362 Pages</td>\n",
       "      <td>Sep 2019</td>\n",
       "      <td>By Greg Deckler</td>\n",
       "    </tr>\n",
       "    <tr>\n",
       "      <th>6</th>\n",
       "      <td>Learn Python Programming - Second Edition</td>\n",
       "      <td>508 Pages</td>\n",
       "      <td>Jun 2018</td>\n",
       "      <td>By Romano</td>\n",
       "    </tr>\n",
       "    <tr>\n",
       "      <th>7</th>\n",
       "      <td>Blockchain By Example</td>\n",
       "      <td>528 Pages</td>\n",
       "      <td>Nov 2018</td>\n",
       "      <td>By Badr\\n                                     ...</td>\n",
       "    </tr>\n",
       "    <tr>\n",
       "      <th>8</th>\n",
       "      <td>Docker Cookbook - Second Edition</td>\n",
       "      <td>352 Pages</td>\n",
       "      <td>Aug 2018</td>\n",
       "      <td>By Cochrane\\n                                 ...</td>\n",
       "    </tr>\n",
       "    <tr>\n",
       "      <th>9</th>\n",
       "      <td>Linux Kernel Programming Part 2 - Char Device ...</td>\n",
       "      <td>452 Pages</td>\n",
       "      <td>Mar 2021</td>\n",
       "      <td>By Kaiwan N. Billimoria</td>\n",
       "    </tr>\n",
       "  </tbody>\n",
       "</table>\n",
       "</div>"
      ],
      "text/plain": [
       "                                           book_name page_number release_date  \\\n",
       "0  Responsive Web Design with HTML5 and CSS3, Sec...   312 Pages     Aug 2015   \n",
       "1                                          Extreme C   822 Pages     Oct 2019   \n",
       "2              Mastering Kubernetes - Second Edition   468 Pages     Apr 2018   \n",
       "3                              Learn Kali Linux 2019   550 Pages     Nov 2019   \n",
       "4                                    AI Crash Course   360 Pages     Nov 2019   \n",
       "5                                     Learn Power BI   362 Pages     Sep 2019   \n",
       "6          Learn Python Programming - Second Edition   508 Pages     Jun 2018   \n",
       "7                              Blockchain By Example   528 Pages     Nov 2018   \n",
       "8                   Docker Cookbook - Second Edition   352 Pages     Aug 2018   \n",
       "9  Linux Kernel Programming Part 2 - Char Device ...   452 Pages     Mar 2021   \n",
       "\n",
       "                                              author  \n",
       "0                                       By Ben Frain  \n",
       "1                                    By Kamran Amini  \n",
       "2                                     By Gigi Sayfan  \n",
       "3  By Joshua Crumbaugh\\n                         ...  \n",
       "4                             By Hadelin de Ponteves  \n",
       "5                                    By Greg Deckler  \n",
       "6                                          By Romano  \n",
       "7  By Badr\\n                                     ...  \n",
       "8  By Cochrane\\n                                 ...  \n",
       "9                            By Kaiwan N. Billimoria  "
      ]
     },
     "execution_count": 3,
     "metadata": {},
     "output_type": "execute_result"
    }
   ],
   "source": [
    "df.head(10)"
   ]
  },
  {
   "cell_type": "code",
   "execution_count": 4,
   "id": "927ecf14",
   "metadata": {},
   "outputs": [
    {
     "name": "stdout",
     "output_type": "stream",
     "text": [
      "<class 'pandas.core.frame.DataFrame'>\n",
      "RangeIndex: 31 entries, 0 to 30\n",
      "Data columns (total 4 columns):\n",
      " #   Column        Non-Null Count  Dtype \n",
      "---  ------        --------------  ----- \n",
      " 0   book_name     31 non-null     object\n",
      " 1   page_number   27 non-null     object\n",
      " 2   release_date  31 non-null     object\n",
      " 3   author        31 non-null     object\n",
      "dtypes: object(4)\n",
      "memory usage: 1.1+ KB\n"
     ]
    }
   ],
   "source": [
    "df.info()"
   ]
  },
  {
   "cell_type": "markdown",
   "id": "5a8c8e0a",
   "metadata": {},
   "source": [
    "## Conclusion : we have missing vlaues in the page number and it's data type unfortunatly is object and we need to remove the word 'page' from it and  it should be numerical, and we need to change the releasing date (data type)."
   ]
  },
  {
   "cell_type": "markdown",
   "id": "c08cf828",
   "metadata": {},
   "source": [
    "# Data_preprocessing"
   ]
  },
  {
   "cell_type": "code",
   "execution_count": 5,
   "id": "697261f3",
   "metadata": {},
   "outputs": [],
   "source": [
    "# changing the page_number format and extracting only the numbers\n",
    "df['page_number'] = df['page_number'].str.extract(r'(\\d+)').astype(float)"
   ]
  },
  {
   "cell_type": "code",
   "execution_count": 6,
   "id": "019abcf1",
   "metadata": {},
   "outputs": [
    {
     "data": {
      "text/plain": [
       "count     27.000000\n",
       "mean     527.333333\n",
       "std      151.762973\n",
       "min      312.000000\n",
       "25%      398.000000\n",
       "50%      528.000000\n",
       "75%      607.000000\n",
       "max      824.000000\n",
       "Name: page_number, dtype: float64"
      ]
     },
     "execution_count": 6,
     "metadata": {},
     "output_type": "execute_result"
    }
   ],
   "source": [
    "df['page_number'].describe()"
   ]
  },
  {
   "cell_type": "code",
   "execution_count": 68,
   "id": "3847119a",
   "metadata": {},
   "outputs": [
    {
     "data": {
      "text/plain": [
       "<Axes: >"
      ]
     },
     "execution_count": 68,
     "metadata": {},
     "output_type": "execute_result"
    },
    {
     "data": {
      "image/png": "[encoded data removed]",
      "text/plain": [
       "<Figure size 640x480 with 1 Axes>"
      ]
     },
     "metadata": {},
     "output_type": "display_data"
    }
   ],
   "source": [
    " sns.boxplot(df['page_number'])"
   ]
  },
  {
   "cell_type": "code",
   "execution_count": 8,
   "id": "0f20c43b",
   "metadata": {},
   "outputs": [],
   "source": [
    "df['page_number'] = df['page_number'].fillna(df['page_number'].mean()).round(1)"
   ]
  },
  {
   "cell_type": "code",
   "execution_count": 9,
   "id": "e9a61c81",
   "metadata": {},
   "outputs": [],
   "source": [
    "df['release_date'] = pd.to_datetime(df['release_date'])"
   ]
  },
  {
   "cell_type": "code",
   "execution_count": 10,
   "id": "6b50fcbf",
   "metadata": {},
   "outputs": [],
   "source": [
    "df['release_year'] = df['release_date'].dt.year"
   ]
  },
  {
   "cell_type": "code",
   "execution_count": 11,
   "id": "81833b92",
   "metadata": {},
   "outputs": [],
   "source": [
    "df = df.drop('release_date' ,axis=1)"
   ]
  },
  {
   "cell_type": "code",
   "execution_count": 12,
   "id": "5b78ec0b",
   "metadata": {},
   "outputs": [],
   "source": [
    "df['author'] = df['author'].str.replace(r'\\s+',' ',regex=True).str.replace('By', '')"
   ]
  },
  {
   "cell_type": "code",
   "execution_count": 13,
   "id": "efa93bcb",
   "metadata": {
    "scrolled": true
   },
   "outputs": [],
   "source": [
    "def books_classification(x):\n",
    "    if x <=350:\n",
    "        return 'small book'\n",
    "    else:\n",
    "        return 'large book'"
   ]
  },
  {
   "cell_type": "code",
   "execution_count": 14,
   "id": "123e4985",
   "metadata": {},
   "outputs": [],
   "source": [
    "df['book_size'] = df['page_number'].apply(books_classification)"
   ]
  },
  {
   "cell_type": "markdown",
   "id": "12205803",
   "metadata": {},
   "source": [
    "# Vizualising "
   ]
  },
  {
   "cell_type": "code",
   "execution_count": 17,
   "id": "e5490d46",
   "metadata": {},
   "outputs": [],
   "source": [
    "books_count = df['book_size'].value_counts().reset_index()\n",
    "books_count.columns=['book_size' , 'count']"
   ]
  },
  {
   "cell_type": "code",
   "execution_count": 67,
   "id": "1f4c274b",
   "metadata": {},
   "outputs": [
    {
     "data": {
      "text/plain": [
       "Text(0, 0.5, 'books_number')"
      ]
     },
     "execution_count": 67,
     "metadata": {},
     "output_type": "execute_result"
    },
    {
     "data": {
      "image/png": "[encoded data removed]",
      "text/plain": [
       "<Figure size 640x480 with 1 Axes>"
      ]
     },
     "metadata": {},
     "output_type": "display_data"
    }
   ],
   "source": [
    "plt.title('large books vs small books number')\n",
    "sns.barplot(data = books_count , x='book_size' , y='count')\n",
    "plt.ylabel('books_number')"
   ]
  },
  {
   "cell_type": "code",
   "execution_count": 1,
   "id": "1a17110e",
   "metadata": {},
   "outputs": [
    {
     "ename": "NameError",
     "evalue": "name 'books_count' is not defined",
     "output_type": "error",
     "traceback": [
      "\u001b[1;31m---------------------------------------------------------------------------\u001b[0m",
      "\u001b[1;31mNameError\u001b[0m                                 Traceback (most recent call last)",
      "Cell \u001b[1;32mIn[1], line 1\u001b[0m\n\u001b[1;32m----> 1\u001b[0m books_count\n",
      "\u001b[1;31mNameError\u001b[0m: name 'books_count' is not defined"
     ]
    }
   ],
   "source": [
    "books_count"
   ]
  },
  {
   "cell_type": "markdown",
   "id": "a09142e5",
   "metadata": {},
   "source": [
    "## Conclusion : so the large books is 575% more than small books.\n"
   ]
  },
  {
   "cell_type": "code",
   "execution_count": 31,
   "id": "01d38416",
   "metadata": {
    "scrolled": true
   },
   "outputs": [
    {
     "data": {
      "text/html": [
       "<div>\n",
       "<style scoped>\n",
       "    .dataframe tbody tr th:only-of-type {\n",
       "        vertical-align: middle;\n",
       "    }\n",
       "\n",
       "    .dataframe tbody tr th {\n",
       "        vertical-align: top;\n",
       "    }\n",
       "\n",
       "    .dataframe thead th {\n",
       "        text-align: right;\n",
       "    }\n",
       "</style>\n",
       "<table border=\"1\" class=\"dataframe\">\n",
       "  <thead>\n",
       "    <tr style=\"text-align: right;\">\n",
       "      <th></th>\n",
       "      <th>release_year</th>\n",
       "      <th>book_name</th>\n",
       "    </tr>\n",
       "  </thead>\n",
       "  <tbody>\n",
       "    <tr>\n",
       "      <th>0</th>\n",
       "      <td>2015</td>\n",
       "      <td>1</td>\n",
       "    </tr>\n",
       "    <tr>\n",
       "      <th>1</th>\n",
       "      <td>2018</td>\n",
       "      <td>7</td>\n",
       "    </tr>\n",
       "    <tr>\n",
       "      <th>2</th>\n",
       "      <td>2019</td>\n",
       "      <td>16</td>\n",
       "    </tr>\n",
       "    <tr>\n",
       "      <th>3</th>\n",
       "      <td>2020</td>\n",
       "      <td>6</td>\n",
       "    </tr>\n",
       "    <tr>\n",
       "      <th>4</th>\n",
       "      <td>2021</td>\n",
       "      <td>1</td>\n",
       "    </tr>\n",
       "  </tbody>\n",
       "</table>\n",
       "</div>"
      ],
      "text/plain": [
       "   release_year  book_name\n",
       "0          2015          1\n",
       "1          2018          7\n",
       "2          2019         16\n",
       "3          2020          6\n",
       "4          2021          1"
      ]
     },
     "execution_count": 31,
     "metadata": {},
     "output_type": "execute_result"
    }
   ],
   "source": [
    "#books over time \n",
    "books_over_time = df.groupby(df['release_year'])['book_name'].count().reset_index()\n",
    "books_over_time"
   ]
  },
  {
   "cell_type": "code",
   "execution_count": 66,
   "id": "bbd6f6b4",
   "metadata": {
    "scrolled": true
   },
   "outputs": [
    {
     "data": {
      "text/plain": [
       "Text(0, 0.5, 'books_number')"
      ]
     },
     "execution_count": 66,
     "metadata": {},
     "output_type": "execute_result"
    },
    {
     "data": {
      "image/png": "[encoded data removed]",
      "text/plain": [
       "<Figure size 640x480 with 1 Axes>"
      ]
     },
     "metadata": {},
     "output_type": "display_data"
    }
   ],
   "source": [
    "plt.title('books releasing over time')\n",
    "sns.lineplot(data=books_over_time , x='release_year' , y='book_name')\n",
    "plt.grid(True)\n",
    "plt.ylabel('books_number')"
   ]
  },
  {
   "cell_type": "markdown",
   "id": "85065777",
   "metadata": {},
   "source": [
    "## Conclusion : the highest year in releasing books is 2019."
   ]
  },
  {
   "cell_type": "code",
   "execution_count": 69,
   "id": "555231f1",
   "metadata": {
    "scrolled": false
   },
   "outputs": [
    {
     "data": {
      "image/png": "[encoded data removed]",
      "text/plain": [
       "<IPython.core.display.Image object>"
      ]
     },
     "execution_count": 69,
     "metadata": {},
     "output_type": "execute_result"
    }
   ],
   "source": [
    "ig(\"books_voting.png\")"
   ]
  },
  {
   "cell_type": "markdown",
   "id": "c99983e3",
   "metadata": {},
   "source": [
    "## Conclusion : According to a LinkedIn vote, 80% of juniors showed a preference for small books over large books."
   ]
  },
  {
   "cell_type": "markdown",
   "id": "a525c333",
   "metadata": {},
   "source": [
    "# Conclusion"
   ]
  },
  {
   "cell_type": "markdown",
   "id": "18ae5867",
   "metadata": {},
   "source": [
    "## \"Juniors or beginners usually prefer free books more than seniors or experienced employees. This suggests that, as a website that sells books, we should create a hook to attract beginners and encourage them to buy more. One effective strategy is to increase the percentage of small books compared to large ones. Small books give beginners a sense of accomplishment when they finish reading, which motivates them to read more and eventually purchase additional books. On the other hand, large books may feel overwhelming, making beginners less likely to start or finish them. This can discourage them from engaging with the website and may result in fewer sales.\""
   ]
  }
 ],
 "metadata": {
  "kernelspec": {
   "display_name": "Python 3 (ipykernel)",
   "language": "python",
   "name": "python3"
  },
  "language_info": {
   "codemirror_mode": {
    "name": "ipython",
    "version": 3
   },
   "file_extension": ".py",
   "mimetype": "text/x-python",
   "name": "python",
   "nbconvert_exporter": "python",
   "pygments_lexer": "ipython3",
   "version": "3.11.4"
  }
 },
 "nbformat": 4,
 "nbformat_minor": 5
}
